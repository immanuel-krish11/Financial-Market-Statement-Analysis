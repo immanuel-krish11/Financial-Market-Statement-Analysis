{
  "metadata": {
    "kernelspec": {
      "language": "python",
      "display_name": "Python 3",
      "name": "python3"
    },
    "language_info": {
      "name": "python",
      "version": "3.10.13",
      "mimetype": "text/x-python",
      "codemirror_mode": {
        "name": "ipython",
        "version": 3
      },
      "pygments_lexer": "ipython3",
      "nbconvert_exporter": "python",
      "file_extension": ".py"
    },
    "kaggle": {
      "accelerator": "none",
      "dataSources": [],
      "dockerImageVersionId": 30646,
      "isInternetEnabled": true,
      "language": "python",
      "sourceType": "notebook",
      "isGpuEnabled": false
    },
    "colab": {
      "name": "notebook7bc5db2946",
      "provenance": [],
      "include_colab_link": true
    }
  },
  "nbformat_minor": 0,
  "nbformat": 4,
  "cells": [
    {
      "cell_type": "markdown",
      "metadata": {
        "id": "view-in-github",
        "colab_type": "text"
      },
      "source": [
        "<a href=\"https://colab.research.google.com/github/immanuel-krish11/Financial-Market-Statement-Analysis/blob/main/notebook7bc5db2946.ipynb\" target=\"_parent\"><img src=\"https://colab.research.google.com/assets/colab-badge.svg\" alt=\"Open In Colab\"/></a>"
      ]
    },
    {
      "cell_type": "markdown",
      "source": [
        "**Financial Market News Sentiment Analysis"
      ],
      "metadata": {
        "id": "W0MuQBLnXTxx"
      }
    },
    {
      "cell_type": "markdown",
      "source": [
        "OBJECTIVE - To analyze  financial market and make informed decisions that align with investment objectives, risk tolerance and other financial goals\n"
      ],
      "metadata": {
        "id": "d9QCX4SZXTx0"
      }
    },
    {
      "cell_type": "markdown",
      "source": [
        "Data source - YBI foundation github Dataset"
      ],
      "metadata": {
        "id": "ww3q0TNXXTx1"
      }
    },
    {
      "cell_type": "code",
      "source": [
        "import pandas as pd"
      ],
      "metadata": {
        "execution": {
          "iopub.status.busy": "2024-02-24T13:31:14.287683Z",
          "iopub.execute_input": "2024-02-24T13:31:14.288861Z",
          "iopub.status.idle": "2024-02-24T13:31:14.295215Z",
          "shell.execute_reply.started": "2024-02-24T13:31:14.288806Z",
          "shell.execute_reply": "2024-02-24T13:31:14.293653Z"
        },
        "trusted": true,
        "id": "Ki_qjJOLXTx2"
      },
      "execution_count": null,
      "outputs": []
    },
    {
      "cell_type": "code",
      "source": [
        "df = pd.read_csv(r'https://raw.githubusercontent.com/YBIFoundation/Dataset/main/Financial%20Market%20News.csv', encoding = \"ISO-8859-1\")"
      ],
      "metadata": {
        "execution": {
          "iopub.status.busy": "2024-02-24T13:31:14.297982Z",
          "iopub.execute_input": "2024-02-24T13:31:14.29901Z",
          "iopub.status.idle": "2024-02-24T13:31:14.582871Z",
          "shell.execute_reply.started": "2024-02-24T13:31:14.298961Z",
          "shell.execute_reply": "2024-02-24T13:31:14.581253Z"
        },
        "trusted": true,
        "id": "r45U6idpXTx3"
      },
      "execution_count": null,
      "outputs": []
    },
    {
      "cell_type": "code",
      "source": [
        "df.head()"
      ],
      "metadata": {
        "execution": {
          "iopub.status.busy": "2024-02-24T13:31:14.584214Z",
          "iopub.execute_input": "2024-02-24T13:31:14.584643Z",
          "iopub.status.idle": "2024-02-24T13:31:14.617777Z",
          "shell.execute_reply.started": "2024-02-24T13:31:14.584587Z",
          "shell.execute_reply": "2024-02-24T13:31:14.61637Z"
        },
        "trusted": true,
        "id": "XFs_uZTEXTx4",
        "outputId": "fce630ce-5ec4-4c1a-8c24-b3acf9bc07e5"
      },
      "execution_count": null,
      "outputs": [
        {
          "execution_count": 102,
          "output_type": "execute_result",
          "data": {
            "text/plain": "         Date  Label                                             News 1  \\\n0  01-01-2010      0           McIlroy's men catch cold from Gudjonsson   \n1  02-01-2010      0               Warning from history points to crash   \n2  03-01-2010      0      Comment: Why Israel's peaceniks feel betrayed   \n3  04-01-2010      1             £750,000-a-goal Weah aims parting shot   \n4  05-01-2010      1  Leeds arrive in Turkey to the silence of the fans   \n\n                                       News 2  \\\n0                       Obituary: Brian Walsh   \n1              Investors flee to dollar haven   \n2  Court deals blow to seizure of drug assets   \n3            Newcastle pay for Fletcher years   \n4     One woman's vision offers loan lifeline   \n\n                                            News 3  \\\n0       Workplace blues leave employers in the red   \n1                      Banks and tobacco in favour   \n2                       An ideal target for spooks   \n3  Brown sent to the stands for Scotland qualifier   \n4          Working Lives: How world leaders worked   \n\n                                        News 4  \\\n0                     Classical review: Rattle   \n1                        Review: Llama Farmers   \n2  World steps between two sides intent on war   \n3         Tourists wary of breaking new ground   \n4           Working Lives: Tricks of the trade   \n\n                                              News 5  \\\n0                     Dance review: Merce Cunningham   \n1                       War jitters lead to sell-off   \n2                       What the region's papers say   \n3              Canary Wharf climbs into the FTSE 100   \n4  Working Lives: six-hour days, long lunches and...   \n\n                                         News 6  \\\n0  Genetic tests to be used in setting premiums   \n1                    Your not-so-secret history   \n2           Comment: Fear and rage in Palestine   \n3                           Review: Bill Bailey   \n4                        Pop review: We Love UK   \n\n                                          News 7  \\\n0                        Opera review: La Bohème   \n1                  Review: The Northern Sinfonia   \n2  Poverty and resentment fuels Palestinian fury   \n3                              Review: Classical   \n4               World music review: Marisa Monte   \n\n                                        News 8  ...  \\\n0                   Pop review: Britney Spears  ...   \n1                             Review: Hysteria  ...   \n2  Republican feud fear as dissident is killed  ...   \n3              Review: New Contemporaries 2000  ...   \n4             Art review:  Hollingsworth/Heyer  ...   \n\n                                News 16                              News 17  \\\n0                 Finland 0 - 0 England                   Healy a marked man   \n1  Why Wenger will stick to his Gunners  Out of luck England hit rock bottom   \n2             FTSE goes upwardly mobile             At this price?  BP Amoco   \n3         More cash on way for counties      Cairns carries Kiwis to victory   \n4          Duisenberg in double trouble           Pru to cut pension charges   \n\n                                             News 18  \\\n0                     Happy birthday Harpers & Queen   \n1                         Wilkinson out of his depth   \n2                                            Go fish   \n3  Year of Blanchflower's flourish when Spurs sto...   \n4                            Art review: Paul Graham   \n\n                                             News 19  \\\n0  Win unlimited access to the Raindance film fes...   \n1                   Kinsella sparks Irish power play   \n2         Bosnian Serb blows himself up to evade law   \n3      New direct approach brings only pay-per-blues   \n4               Shearer shot sparks Boro humiliation   \n\n                                             News 20  \\\n0  Labour pledges £800m to bridge north-south divide   \n1                    Brown banished as Scots rebound   \n2                       Orange float delayed to 2001   \n3                           Third Division  round-up   \n4  Ridsdale's lingering fears as Leeds revisit Tu...   \n\n                                             News 21  \\\n0       Wales: Lib-Lab pact firm despite resignation   \n1                   Battling Wales cling to lifeline   \n2  Angry factory workers root out fear, favours a...   \n3                          Second Division  round-up   \n4            Champions League: Rangers v Galatasaray   \n\n                              News 22  \\\n0                        Donald Dewar   \n1   Ehiogu close to sealing Boro move   \n2  Smith defied advice on dome payout   \n3            First Division  round-up   \n4   Champions League: Lazio v Arsenal   \n\n                                             News 23  \\\n0  Regenerating homes  regenerates well-being in ...   \n1                                 Man-to-man marking   \n2                        Xerox takes the axe to jobs   \n3                McLean ends his career with a punch   \n4                                Lazio 1 - 1 Arsenal   \n\n                        News 24  \\\n0   Win £100 worth of underwear   \n1                   Match stats   \n2  Comment: Refugees in Britain   \n3     Heskey grabs triple crown   \n4           England in Pakistan   \n\n                                             News 25  \n0                             TV guide: Random views  \n1  French referee at centre of storm is no strang...  \n2              Maverick who sparked the new intifada  \n3                   Weah on his way as City march on  \n4               England given olive-branch reception  \n\n[5 rows x 27 columns]",
            "text/html": "<div>\n<style scoped>\n    .dataframe tbody tr th:only-of-type {\n        vertical-align: middle;\n    }\n\n    .dataframe tbody tr th {\n        vertical-align: top;\n    }\n\n    .dataframe thead th {\n        text-align: right;\n    }\n</style>\n<table border=\"1\" class=\"dataframe\">\n  <thead>\n    <tr style=\"text-align: right;\">\n      <th></th>\n      <th>Date</th>\n      <th>Label</th>\n      <th>News 1</th>\n      <th>News 2</th>\n      <th>News 3</th>\n      <th>News 4</th>\n      <th>News 5</th>\n      <th>News 6</th>\n      <th>News 7</th>\n      <th>News 8</th>\n      <th>...</th>\n      <th>News 16</th>\n      <th>News 17</th>\n      <th>News 18</th>\n      <th>News 19</th>\n      <th>News 20</th>\n      <th>News 21</th>\n      <th>News 22</th>\n      <th>News 23</th>\n      <th>News 24</th>\n      <th>News 25</th>\n    </tr>\n  </thead>\n  <tbody>\n    <tr>\n      <th>0</th>\n      <td>01-01-2010</td>\n      <td>0</td>\n      <td>McIlroy's men catch cold from Gudjonsson</td>\n      <td>Obituary: Brian Walsh</td>\n      <td>Workplace blues leave employers in the red</td>\n      <td>Classical review: Rattle</td>\n      <td>Dance review: Merce Cunningham</td>\n      <td>Genetic tests to be used in setting premiums</td>\n      <td>Opera review: La Bohème</td>\n      <td>Pop review: Britney Spears</td>\n      <td>...</td>\n      <td>Finland 0 - 0 England</td>\n      <td>Healy a marked man</td>\n      <td>Happy birthday Harpers &amp; Queen</td>\n      <td>Win unlimited access to the Raindance film fes...</td>\n      <td>Labour pledges £800m to bridge north-south divide</td>\n      <td>Wales: Lib-Lab pact firm despite resignation</td>\n      <td>Donald Dewar</td>\n      <td>Regenerating homes  regenerates well-being in ...</td>\n      <td>Win £100 worth of underwear</td>\n      <td>TV guide: Random views</td>\n    </tr>\n    <tr>\n      <th>1</th>\n      <td>02-01-2010</td>\n      <td>0</td>\n      <td>Warning from history points to crash</td>\n      <td>Investors flee to dollar haven</td>\n      <td>Banks and tobacco in favour</td>\n      <td>Review: Llama Farmers</td>\n      <td>War jitters lead to sell-off</td>\n      <td>Your not-so-secret history</td>\n      <td>Review: The Northern Sinfonia</td>\n      <td>Review: Hysteria</td>\n      <td>...</td>\n      <td>Why Wenger will stick to his Gunners</td>\n      <td>Out of luck England hit rock bottom</td>\n      <td>Wilkinson out of his depth</td>\n      <td>Kinsella sparks Irish power play</td>\n      <td>Brown banished as Scots rebound</td>\n      <td>Battling Wales cling to lifeline</td>\n      <td>Ehiogu close to sealing Boro move</td>\n      <td>Man-to-man marking</td>\n      <td>Match stats</td>\n      <td>French referee at centre of storm is no strang...</td>\n    </tr>\n    <tr>\n      <th>2</th>\n      <td>03-01-2010</td>\n      <td>0</td>\n      <td>Comment: Why Israel's peaceniks feel betrayed</td>\n      <td>Court deals blow to seizure of drug assets</td>\n      <td>An ideal target for spooks</td>\n      <td>World steps between two sides intent on war</td>\n      <td>What the region's papers say</td>\n      <td>Comment: Fear and rage in Palestine</td>\n      <td>Poverty and resentment fuels Palestinian fury</td>\n      <td>Republican feud fear as dissident is killed</td>\n      <td>...</td>\n      <td>FTSE goes upwardly mobile</td>\n      <td>At this price?  BP Amoco</td>\n      <td>Go fish</td>\n      <td>Bosnian Serb blows himself up to evade law</td>\n      <td>Orange float delayed to 2001</td>\n      <td>Angry factory workers root out fear, favours a...</td>\n      <td>Smith defied advice on dome payout</td>\n      <td>Xerox takes the axe to jobs</td>\n      <td>Comment: Refugees in Britain</td>\n      <td>Maverick who sparked the new intifada</td>\n    </tr>\n    <tr>\n      <th>3</th>\n      <td>04-01-2010</td>\n      <td>1</td>\n      <td>£750,000-a-goal Weah aims parting shot</td>\n      <td>Newcastle pay for Fletcher years</td>\n      <td>Brown sent to the stands for Scotland qualifier</td>\n      <td>Tourists wary of breaking new ground</td>\n      <td>Canary Wharf climbs into the FTSE 100</td>\n      <td>Review: Bill Bailey</td>\n      <td>Review: Classical</td>\n      <td>Review: New Contemporaries 2000</td>\n      <td>...</td>\n      <td>More cash on way for counties</td>\n      <td>Cairns carries Kiwis to victory</td>\n      <td>Year of Blanchflower's flourish when Spurs sto...</td>\n      <td>New direct approach brings only pay-per-blues</td>\n      <td>Third Division  round-up</td>\n      <td>Second Division  round-up</td>\n      <td>First Division  round-up</td>\n      <td>McLean ends his career with a punch</td>\n      <td>Heskey grabs triple crown</td>\n      <td>Weah on his way as City march on</td>\n    </tr>\n    <tr>\n      <th>4</th>\n      <td>05-01-2010</td>\n      <td>1</td>\n      <td>Leeds arrive in Turkey to the silence of the fans</td>\n      <td>One woman's vision offers loan lifeline</td>\n      <td>Working Lives: How world leaders worked</td>\n      <td>Working Lives: Tricks of the trade</td>\n      <td>Working Lives: six-hour days, long lunches and...</td>\n      <td>Pop review: We Love UK</td>\n      <td>World music review: Marisa Monte</td>\n      <td>Art review:  Hollingsworth/Heyer</td>\n      <td>...</td>\n      <td>Duisenberg in double trouble</td>\n      <td>Pru to cut pension charges</td>\n      <td>Art review: Paul Graham</td>\n      <td>Shearer shot sparks Boro humiliation</td>\n      <td>Ridsdale's lingering fears as Leeds revisit Tu...</td>\n      <td>Champions League: Rangers v Galatasaray</td>\n      <td>Champions League: Lazio v Arsenal</td>\n      <td>Lazio 1 - 1 Arsenal</td>\n      <td>England in Pakistan</td>\n      <td>England given olive-branch reception</td>\n    </tr>\n  </tbody>\n</table>\n<p>5 rows × 27 columns</p>\n</div>"
          },
          "metadata": {}
        }
      ]
    },
    {
      "cell_type": "code",
      "source": [
        "df.info()"
      ],
      "metadata": {
        "execution": {
          "iopub.status.busy": "2024-02-24T13:31:14.621664Z",
          "iopub.execute_input": "2024-02-24T13:31:14.622495Z",
          "iopub.status.idle": "2024-02-24T13:31:14.653524Z",
          "shell.execute_reply.started": "2024-02-24T13:31:14.622419Z",
          "shell.execute_reply": "2024-02-24T13:31:14.651975Z"
        },
        "trusted": true,
        "id": "10nfS1CeXTx6",
        "outputId": "aaab5e15-15d6-42a0-fe79-27f3cad6af79"
      },
      "execution_count": null,
      "outputs": [
        {
          "name": "stdout",
          "text": "<class 'pandas.core.frame.DataFrame'>\nRangeIndex: 4101 entries, 0 to 4100\nData columns (total 27 columns):\n #   Column   Non-Null Count  Dtype \n---  ------   --------------  ----- \n 0   Date     4101 non-null   object\n 1   Label    4101 non-null   int64 \n 2   News 1   4101 non-null   object\n 3   News 2   4101 non-null   object\n 4   News 3   4101 non-null   object\n 5   News 4   4101 non-null   object\n 6   News 5   4101 non-null   object\n 7   News 6   4101 non-null   object\n 8   News 7   4101 non-null   object\n 9   News 8   4101 non-null   object\n 10  News 9   4101 non-null   object\n 11  News 10  4101 non-null   object\n 12  News 11  4101 non-null   object\n 13  News 12  4101 non-null   object\n 14  News 13  4101 non-null   object\n 15  News 14  4101 non-null   object\n 16  News 15  4101 non-null   object\n 17  News 16  4101 non-null   object\n 18  News 17  4101 non-null   object\n 19  News 18  4101 non-null   object\n 20  News 19  4101 non-null   object\n 21  News 20  4101 non-null   object\n 22  News 21  4101 non-null   object\n 23  News 22  4101 non-null   object\n 24  News 23  4100 non-null   object\n 25  News 24  4098 non-null   object\n 26  News 25  4098 non-null   object\ndtypes: int64(1), object(26)\nmemory usage: 865.2+ KB\n",
          "output_type": "stream"
        }
      ]
    },
    {
      "cell_type": "code",
      "source": [
        "df.shape"
      ],
      "metadata": {
        "execution": {
          "iopub.status.busy": "2024-02-24T13:31:14.654902Z",
          "iopub.execute_input": "2024-02-24T13:31:14.655291Z",
          "iopub.status.idle": "2024-02-24T13:31:14.662588Z",
          "shell.execute_reply.started": "2024-02-24T13:31:14.655257Z",
          "shell.execute_reply": "2024-02-24T13:31:14.661345Z"
        },
        "trusted": true,
        "id": "vEFaxBSTXTx7",
        "outputId": "78102cdf-9e62-4914-bd26-02ed2f0e88d1"
      },
      "execution_count": null,
      "outputs": [
        {
          "execution_count": 104,
          "output_type": "execute_result",
          "data": {
            "text/plain": "(4101, 27)"
          },
          "metadata": {}
        }
      ]
    },
    {
      "cell_type": "code",
      "source": [
        "df.columns"
      ],
      "metadata": {
        "execution": {
          "iopub.status.busy": "2024-02-24T13:31:14.664034Z",
          "iopub.execute_input": "2024-02-24T13:31:14.664487Z",
          "iopub.status.idle": "2024-02-24T13:31:14.678455Z",
          "shell.execute_reply.started": "2024-02-24T13:31:14.66443Z",
          "shell.execute_reply": "2024-02-24T13:31:14.677572Z"
        },
        "trusted": true,
        "id": "g_qk5d-RXTx7",
        "outputId": "7bbddc0d-5f2c-4efc-bb29-252d42c32fa9"
      },
      "execution_count": null,
      "outputs": [
        {
          "execution_count": 105,
          "output_type": "execute_result",
          "data": {
            "text/plain": "Index(['Date', 'Label', 'News 1', 'News 2', 'News 3', 'News 4', 'News 5',\n       'News 6', 'News 7', 'News 8', 'News 9', 'News 10', 'News 11', 'News 12',\n       'News 13', 'News 14', 'News 15', 'News 16', 'News 17', 'News 18',\n       'News 19', 'News 20', 'News 21', 'News 22', 'News 23', 'News 24',\n       'News 25'],\n      dtype='object')"
          },
          "metadata": {}
        }
      ]
    },
    {
      "cell_type": "markdown",
      "source": [
        "Get feature selection"
      ],
      "metadata": {
        "id": "zuZ1m9IeXTx7"
      }
    },
    {
      "cell_type": "code",
      "source": [
        "' '.join(str(x) for x in df.iloc[1,2:27])"
      ],
      "metadata": {
        "execution": {
          "iopub.status.busy": "2024-02-24T13:31:14.679384Z",
          "iopub.execute_input": "2024-02-24T13:31:14.679734Z",
          "iopub.status.idle": "2024-02-24T13:31:14.693313Z",
          "shell.execute_reply.started": "2024-02-24T13:31:14.679707Z",
          "shell.execute_reply": "2024-02-24T13:31:14.692261Z"
        },
        "trusted": true,
        "id": "oZ-ppRXKXTx8",
        "outputId": "a0c1b9ff-4919-4c60-d2a5-95dbee73b1e8"
      },
      "execution_count": null,
      "outputs": [
        {
          "execution_count": 106,
          "output_type": "execute_result",
          "data": {
            "text/plain": "\"Warning from history points to crash Investors flee to dollar haven Banks and tobacco in favour Review: Llama Farmers War jitters lead to sell-off Your not-so-secret history Review: The Northern Sinfonia Review: Hysteria Review: The Guardsman Opera: The Marriage of Figaro Review: The Turk in Italy Deutsche spells out its plans for diversification Traders' panic sends oil prices skyward TV sport chief leaves home over romance Leader: Hi-tech twitch Why Wenger will stick to his Gunners Out of luck England hit rock bottom Wilkinson out of his depth Kinsella sparks Irish power play Brown banished as Scots rebound Battling Wales cling to lifeline Ehiogu close to sealing Boro move Man-to-man marking Match stats French referee at centre of storm is no stranger to controversy\""
          },
          "metadata": {}
        }
      ]
    },
    {
      "cell_type": "code",
      "source": [
        "df.index"
      ],
      "metadata": {
        "execution": {
          "iopub.status.busy": "2024-02-24T13:31:14.69432Z",
          "iopub.execute_input": "2024-02-24T13:31:14.694674Z",
          "iopub.status.idle": "2024-02-24T13:31:14.707679Z",
          "shell.execute_reply.started": "2024-02-24T13:31:14.694644Z",
          "shell.execute_reply": "2024-02-24T13:31:14.706548Z"
        },
        "trusted": true,
        "id": "L61K2kjJXTx8",
        "outputId": "b03c63c0-12cf-4b0c-cead-a822471004dc"
      },
      "execution_count": null,
      "outputs": [
        {
          "execution_count": 107,
          "output_type": "execute_result",
          "data": {
            "text/plain": "RangeIndex(start=0, stop=4101, step=1)"
          },
          "metadata": {}
        }
      ]
    },
    {
      "cell_type": "code",
      "source": [
        "len(df.index)"
      ],
      "metadata": {
        "execution": {
          "iopub.status.busy": "2024-02-24T13:31:14.709235Z",
          "iopub.execute_input": "2024-02-24T13:31:14.709615Z",
          "iopub.status.idle": "2024-02-24T13:31:14.724459Z",
          "shell.execute_reply.started": "2024-02-24T13:31:14.709578Z",
          "shell.execute_reply": "2024-02-24T13:31:14.723135Z"
        },
        "trusted": true,
        "id": "zcp4DZovXTx8",
        "outputId": "23202e6b-c101-47ae-e208-cb2623c3dca8"
      },
      "execution_count": null,
      "outputs": [
        {
          "execution_count": 108,
          "output_type": "execute_result",
          "data": {
            "text/plain": "4101"
          },
          "metadata": {}
        }
      ]
    },
    {
      "cell_type": "code",
      "source": [
        "news = []\n",
        "for row in range (0, len(df.index)):\n",
        "    news.append(' '.join(str(x) for x in df.iloc[row,2:27]))"
      ],
      "metadata": {
        "execution": {
          "iopub.status.busy": "2024-02-24T13:31:14.730673Z",
          "iopub.execute_input": "2024-02-24T13:31:14.731237Z",
          "iopub.status.idle": "2024-02-24T13:31:15.526759Z",
          "shell.execute_reply.started": "2024-02-24T13:31:14.731195Z",
          "shell.execute_reply": "2024-02-24T13:31:15.525514Z"
        },
        "trusted": true,
        "id": "QdMx61cUXTx9"
      },
      "execution_count": null,
      "outputs": []
    },
    {
      "cell_type": "code",
      "source": [
        "type(news)"
      ],
      "metadata": {
        "execution": {
          "iopub.status.busy": "2024-02-24T13:31:15.52856Z",
          "iopub.execute_input": "2024-02-24T13:31:15.528929Z",
          "iopub.status.idle": "2024-02-24T13:31:15.535884Z",
          "shell.execute_reply.started": "2024-02-24T13:31:15.528896Z",
          "shell.execute_reply": "2024-02-24T13:31:15.534508Z"
        },
        "trusted": true,
        "id": "jwb4B9JxXTx9",
        "outputId": "15d4e281-a226-4f2d-c7b0-ce33ec80e5a1"
      },
      "execution_count": null,
      "outputs": [
        {
          "execution_count": 110,
          "output_type": "execute_result",
          "data": {
            "text/plain": "list"
          },
          "metadata": {}
        }
      ]
    },
    {
      "cell_type": "code",
      "source": [
        "news[0]"
      ],
      "metadata": {
        "execution": {
          "iopub.status.busy": "2024-02-24T13:31:15.537709Z",
          "iopub.execute_input": "2024-02-24T13:31:15.538871Z",
          "iopub.status.idle": "2024-02-24T13:31:15.552849Z",
          "shell.execute_reply.started": "2024-02-24T13:31:15.538803Z",
          "shell.execute_reply": "2024-02-24T13:31:15.551154Z"
        },
        "trusted": true,
        "id": "zH3QPptlXTx9",
        "outputId": "a1a9944e-01e2-4701-9bae-f5e3a1329b91"
      },
      "execution_count": null,
      "outputs": [
        {
          "execution_count": 111,
          "output_type": "execute_result",
          "data": {
            "text/plain": "\"McIlroy's men catch cold from Gudjonsson Obituary: Brian Walsh Workplace blues leave employers in the red Classical review: Rattle Dance review: Merce Cunningham Genetic tests to be used in setting premiums Opera review: La Bohème Pop review: Britney Spears Theatre review: The Circle Wales face a fraught night Under-21  round-up Smith off to blot his copybook Finns taking the mickey Praise wasted as Brown studies injury options Ireland wary of minnows Finland 0 - 0 England Healy a marked man Happy birthday Harpers & Queen Win unlimited access to the Raindance film festival Labour pledges £800m to bridge north-south divide Wales: Lib-Lab pact firm despite resignation Donald Dewar Regenerating homes  regenerates well-being in people Win £100 worth of underwear TV guide: Random views\""
          },
          "metadata": {}
        }
      ]
    },
    {
      "cell_type": "code",
      "source": [
        "X = news"
      ],
      "metadata": {
        "execution": {
          "iopub.status.busy": "2024-02-24T13:31:15.554785Z",
          "iopub.execute_input": "2024-02-24T13:31:15.555568Z",
          "iopub.status.idle": "2024-02-24T13:31:15.565639Z",
          "shell.execute_reply.started": "2024-02-24T13:31:15.555432Z",
          "shell.execute_reply": "2024-02-24T13:31:15.564599Z"
        },
        "trusted": true,
        "id": "QS1-M_nWXTx9"
      },
      "execution_count": null,
      "outputs": []
    },
    {
      "cell_type": "code",
      "source": [
        "type(X)"
      ],
      "metadata": {
        "execution": {
          "iopub.status.busy": "2024-02-24T13:31:15.567649Z",
          "iopub.execute_input": "2024-02-24T13:31:15.568563Z",
          "iopub.status.idle": "2024-02-24T13:31:15.583722Z",
          "shell.execute_reply.started": "2024-02-24T13:31:15.56852Z",
          "shell.execute_reply": "2024-02-24T13:31:15.582875Z"
        },
        "trusted": true,
        "id": "rdiIA8gEXTx9",
        "outputId": "d3640cfc-7acd-4172-8b17-705efee9b492"
      },
      "execution_count": null,
      "outputs": [
        {
          "execution_count": 113,
          "output_type": "execute_result",
          "data": {
            "text/plain": "list"
          },
          "metadata": {}
        }
      ]
    },
    {
      "cell_type": "code",
      "source": [
        "from sklearn.feature_extraction.text import CountVectorizer"
      ],
      "metadata": {
        "execution": {
          "iopub.status.busy": "2024-02-24T13:31:15.585381Z",
          "iopub.execute_input": "2024-02-24T13:31:15.585967Z",
          "iopub.status.idle": "2024-02-24T13:31:15.597147Z",
          "shell.execute_reply.started": "2024-02-24T13:31:15.585933Z",
          "shell.execute_reply": "2024-02-24T13:31:15.596173Z"
        },
        "trusted": true,
        "id": "_bfbc1rxXTx-"
      },
      "execution_count": null,
      "outputs": []
    },
    {
      "cell_type": "code",
      "source": [
        "cv = CountVectorizer(lowercase = True, ngram_range = (1,1))"
      ],
      "metadata": {
        "execution": {
          "iopub.status.busy": "2024-02-24T13:31:15.598823Z",
          "iopub.execute_input": "2024-02-24T13:31:15.599517Z",
          "iopub.status.idle": "2024-02-24T13:31:15.615252Z",
          "shell.execute_reply.started": "2024-02-24T13:31:15.599477Z",
          "shell.execute_reply": "2024-02-24T13:31:15.613798Z"
        },
        "trusted": true,
        "id": "sCTNB-gwXTx-"
      },
      "execution_count": null,
      "outputs": []
    },
    {
      "cell_type": "code",
      "source": [
        "X = cv.fit_transform(X)"
      ],
      "metadata": {
        "execution": {
          "iopub.status.busy": "2024-02-24T13:31:15.617259Z",
          "iopub.execute_input": "2024-02-24T13:31:15.617647Z",
          "iopub.status.idle": "2024-02-24T13:31:17.355482Z",
          "shell.execute_reply.started": "2024-02-24T13:31:15.617615Z",
          "shell.execute_reply": "2024-02-24T13:31:17.353866Z"
        },
        "trusted": true,
        "id": "o7hUeTV8XTx-"
      },
      "execution_count": null,
      "outputs": []
    },
    {
      "cell_type": "code",
      "source": [
        "X.shape"
      ],
      "metadata": {
        "execution": {
          "iopub.status.busy": "2024-02-24T13:31:17.356949Z",
          "iopub.execute_input": "2024-02-24T13:31:17.357488Z",
          "iopub.status.idle": "2024-02-24T13:31:17.366301Z",
          "shell.execute_reply.started": "2024-02-24T13:31:17.357424Z",
          "shell.execute_reply": "2024-02-24T13:31:17.364653Z"
        },
        "trusted": true,
        "id": "nPrkaZv0XTx-",
        "outputId": "2e3e7859-b5a3-4d70-9718-03b368b30b3a"
      },
      "execution_count": null,
      "outputs": [
        {
          "execution_count": 117,
          "output_type": "execute_result",
          "data": {
            "text/plain": "(4101, 48527)"
          },
          "metadata": {}
        }
      ]
    },
    {
      "cell_type": "code",
      "source": [
        "y =df ['Label']"
      ],
      "metadata": {
        "execution": {
          "iopub.status.busy": "2024-02-24T13:31:17.368307Z",
          "iopub.execute_input": "2024-02-24T13:31:17.368842Z",
          "iopub.status.idle": "2024-02-24T13:31:17.378909Z",
          "shell.execute_reply.started": "2024-02-24T13:31:17.368794Z",
          "shell.execute_reply": "2024-02-24T13:31:17.377486Z"
        },
        "trusted": true,
        "id": "lOSd0V2pXTx-"
      },
      "execution_count": null,
      "outputs": []
    },
    {
      "cell_type": "code",
      "source": [
        "y.shape"
      ],
      "metadata": {
        "execution": {
          "iopub.status.busy": "2024-02-24T13:31:17.380562Z",
          "iopub.execute_input": "2024-02-24T13:31:17.380933Z",
          "iopub.status.idle": "2024-02-24T13:31:17.396794Z",
          "shell.execute_reply.started": "2024-02-24T13:31:17.380895Z",
          "shell.execute_reply": "2024-02-24T13:31:17.395678Z"
        },
        "trusted": true,
        "id": "itC90dX7XTx-",
        "outputId": "2ed53782-cecd-429a-8a0e-7bd1090f3085"
      },
      "execution_count": null,
      "outputs": [
        {
          "execution_count": 119,
          "output_type": "execute_result",
          "data": {
            "text/plain": "(4101,)"
          },
          "metadata": {}
        }
      ]
    },
    {
      "cell_type": "markdown",
      "source": [
        "GET TRAIN TEST SPLIT"
      ],
      "metadata": {
        "id": "Xbf42fQoXTx_"
      }
    },
    {
      "cell_type": "code",
      "source": [
        "from sklearn.model_selection import train_test_split"
      ],
      "metadata": {
        "execution": {
          "iopub.status.busy": "2024-02-24T13:31:17.398303Z",
          "iopub.execute_input": "2024-02-24T13:31:17.398661Z",
          "iopub.status.idle": "2024-02-24T13:31:17.40823Z",
          "shell.execute_reply.started": "2024-02-24T13:31:17.39862Z",
          "shell.execute_reply": "2024-02-24T13:31:17.407169Z"
        },
        "trusted": true,
        "id": "z0Id-hevXTx_"
      },
      "execution_count": null,
      "outputs": []
    },
    {
      "cell_type": "code",
      "source": [
        "X_train,  X_test, y_train, y_test = train_test_split(X, y, test_size = 0.3, stratify = y, random_state=2529)"
      ],
      "metadata": {
        "execution": {
          "iopub.status.busy": "2024-02-24T13:31:17.409344Z",
          "iopub.execute_input": "2024-02-24T13:31:17.409751Z",
          "iopub.status.idle": "2024-02-24T13:31:17.429631Z",
          "shell.execute_reply.started": "2024-02-24T13:31:17.40972Z",
          "shell.execute_reply": "2024-02-24T13:31:17.428488Z"
        },
        "trusted": true,
        "id": "HvQctpC4XTx_"
      },
      "execution_count": null,
      "outputs": []
    },
    {
      "cell_type": "code",
      "source": [
        "from sklearn.ensemble import RandomForestClassifier"
      ],
      "metadata": {
        "execution": {
          "iopub.status.busy": "2024-02-24T13:31:17.43195Z",
          "iopub.execute_input": "2024-02-24T13:31:17.432338Z",
          "iopub.status.idle": "2024-02-24T13:31:17.438168Z",
          "shell.execute_reply.started": "2024-02-24T13:31:17.432306Z",
          "shell.execute_reply": "2024-02-24T13:31:17.436747Z"
        },
        "trusted": true,
        "id": "ppnpJsi2XTx_"
      },
      "execution_count": null,
      "outputs": []
    },
    {
      "cell_type": "code",
      "source": [
        "rf =RandomForestClassifier(n_estimators= 200)"
      ],
      "metadata": {
        "execution": {
          "iopub.status.busy": "2024-02-24T13:31:17.439707Z",
          "iopub.execute_input": "2024-02-24T13:31:17.4408Z",
          "iopub.status.idle": "2024-02-24T13:31:17.452483Z",
          "shell.execute_reply.started": "2024-02-24T13:31:17.440755Z",
          "shell.execute_reply": "2024-02-24T13:31:17.450928Z"
        },
        "trusted": true,
        "id": "XPFzoIm8XTx_"
      },
      "execution_count": null,
      "outputs": []
    },
    {
      "cell_type": "code",
      "source": [
        "rf.fit(X_train , y_train)"
      ],
      "metadata": {
        "execution": {
          "iopub.status.busy": "2024-02-24T13:31:17.454512Z",
          "iopub.execute_input": "2024-02-24T13:31:17.454969Z",
          "iopub.status.idle": "2024-02-24T13:31:32.724775Z",
          "shell.execute_reply.started": "2024-02-24T13:31:17.454928Z",
          "shell.execute_reply": "2024-02-24T13:31:32.723377Z"
        },
        "trusted": true,
        "id": "U9-OKNFKXTx_",
        "outputId": "dcb782a5-9d7e-4c73-f49a-94b9c6a28be0"
      },
      "execution_count": null,
      "outputs": [
        {
          "execution_count": 124,
          "output_type": "execute_result",
          "data": {
            "text/plain": "RandomForestClassifier(n_estimators=200)",
            "text/html": "<style>#sk-container-id-4 {color: black;background-color: white;}#sk-container-id-4 pre{padding: 0;}#sk-container-id-4 div.sk-toggleable {background-color: white;}#sk-container-id-4 label.sk-toggleable__label {cursor: pointer;display: block;width: 100%;margin-bottom: 0;padding: 0.3em;box-sizing: border-box;text-align: center;}#sk-container-id-4 label.sk-toggleable__label-arrow:before {content: \"▸\";float: left;margin-right: 0.25em;color: #696969;}#sk-container-id-4 label.sk-toggleable__label-arrow:hover:before {color: black;}#sk-container-id-4 div.sk-estimator:hover label.sk-toggleable__label-arrow:before {color: black;}#sk-container-id-4 div.sk-toggleable__content {max-height: 0;max-width: 0;overflow: hidden;text-align: left;background-color: #f0f8ff;}#sk-container-id-4 div.sk-toggleable__content pre {margin: 0.2em;color: black;border-radius: 0.25em;background-color: #f0f8ff;}#sk-container-id-4 input.sk-toggleable__control:checked~div.sk-toggleable__content {max-height: 200px;max-width: 100%;overflow: auto;}#sk-container-id-4 input.sk-toggleable__control:checked~label.sk-toggleable__label-arrow:before {content: \"▾\";}#sk-container-id-4 div.sk-estimator input.sk-toggleable__control:checked~label.sk-toggleable__label {background-color: #d4ebff;}#sk-container-id-4 div.sk-label input.sk-toggleable__control:checked~label.sk-toggleable__label {background-color: #d4ebff;}#sk-container-id-4 input.sk-hidden--visually {border: 0;clip: rect(1px 1px 1px 1px);clip: rect(1px, 1px, 1px, 1px);height: 1px;margin: -1px;overflow: hidden;padding: 0;position: absolute;width: 1px;}#sk-container-id-4 div.sk-estimator {font-family: monospace;background-color: #f0f8ff;border: 1px dotted black;border-radius: 0.25em;box-sizing: border-box;margin-bottom: 0.5em;}#sk-container-id-4 div.sk-estimator:hover {background-color: #d4ebff;}#sk-container-id-4 div.sk-parallel-item::after {content: \"\";width: 100%;border-bottom: 1px solid gray;flex-grow: 1;}#sk-container-id-4 div.sk-label:hover label.sk-toggleable__label {background-color: #d4ebff;}#sk-container-id-4 div.sk-serial::before {content: \"\";position: absolute;border-left: 1px solid gray;box-sizing: border-box;top: 0;bottom: 0;left: 50%;z-index: 0;}#sk-container-id-4 div.sk-serial {display: flex;flex-direction: column;align-items: center;background-color: white;padding-right: 0.2em;padding-left: 0.2em;position: relative;}#sk-container-id-4 div.sk-item {position: relative;z-index: 1;}#sk-container-id-4 div.sk-parallel {display: flex;align-items: stretch;justify-content: center;background-color: white;position: relative;}#sk-container-id-4 div.sk-item::before, #sk-container-id-4 div.sk-parallel-item::before {content: \"\";position: absolute;border-left: 1px solid gray;box-sizing: border-box;top: 0;bottom: 0;left: 50%;z-index: -1;}#sk-container-id-4 div.sk-parallel-item {display: flex;flex-direction: column;z-index: 1;position: relative;background-color: white;}#sk-container-id-4 div.sk-parallel-item:first-child::after {align-self: flex-end;width: 50%;}#sk-container-id-4 div.sk-parallel-item:last-child::after {align-self: flex-start;width: 50%;}#sk-container-id-4 div.sk-parallel-item:only-child::after {width: 0;}#sk-container-id-4 div.sk-dashed-wrapped {border: 1px dashed gray;margin: 0 0.4em 0.5em 0.4em;box-sizing: border-box;padding-bottom: 0.4em;background-color: white;}#sk-container-id-4 div.sk-label label {font-family: monospace;font-weight: bold;display: inline-block;line-height: 1.2em;}#sk-container-id-4 div.sk-label-container {text-align: center;}#sk-container-id-4 div.sk-container {/* jupyter's `normalize.less` sets `[hidden] { display: none; }` but bootstrap.min.css set `[hidden] { display: none !important; }` so we also need the `!important` here to be able to override the default hidden behavior on the sphinx rendered scikit-learn.org. See: https://github.com/scikit-learn/scikit-learn/issues/21755 */display: inline-block !important;position: relative;}#sk-container-id-4 div.sk-text-repr-fallback {display: none;}</style><div id=\"sk-container-id-4\" class=\"sk-top-container\"><div class=\"sk-text-repr-fallback\"><pre>RandomForestClassifier(n_estimators=200)</pre><b>In a Jupyter environment, please rerun this cell to show the HTML representation or trust the notebook. <br />On GitHub, the HTML representation is unable to render, please try loading this page with nbviewer.org.</b></div><div class=\"sk-container\" hidden><div class=\"sk-item\"><div class=\"sk-estimator sk-toggleable\"><input class=\"sk-toggleable__control sk-hidden--visually\" id=\"sk-estimator-id-4\" type=\"checkbox\" checked><label for=\"sk-estimator-id-4\" class=\"sk-toggleable__label sk-toggleable__label-arrow\">RandomForestClassifier</label><div class=\"sk-toggleable__content\"><pre>RandomForestClassifier(n_estimators=200)</pre></div></div></div></div></div>"
          },
          "metadata": {}
        }
      ]
    },
    {
      "cell_type": "code",
      "source": [
        "y_pred = rf.predict(X_test)"
      ],
      "metadata": {
        "execution": {
          "iopub.status.busy": "2024-02-24T13:31:32.726743Z",
          "iopub.execute_input": "2024-02-24T13:31:32.727496Z",
          "iopub.status.idle": "2024-02-24T13:31:33.082384Z",
          "shell.execute_reply.started": "2024-02-24T13:31:32.727452Z",
          "shell.execute_reply": "2024-02-24T13:31:33.081158Z"
        },
        "trusted": true,
        "id": "73LSsMqjXTx_"
      },
      "execution_count": null,
      "outputs": []
    },
    {
      "cell_type": "code",
      "source": [
        "from sklearn.metrics import classification_report, confusion_matrix, accuracy_score"
      ],
      "metadata": {
        "execution": {
          "iopub.status.busy": "2024-02-24T13:31:33.084059Z",
          "iopub.execute_input": "2024-02-24T13:31:33.085343Z",
          "iopub.status.idle": "2024-02-24T13:31:33.091282Z",
          "shell.execute_reply.started": "2024-02-24T13:31:33.085296Z",
          "shell.execute_reply": "2024-02-24T13:31:33.090017Z"
        },
        "trusted": true,
        "id": "-tKfl4p7XTyA"
      },
      "execution_count": null,
      "outputs": []
    },
    {
      "cell_type": "code",
      "source": [
        "confusion_matrix(y_test, y_pred)"
      ],
      "metadata": {
        "execution": {
          "iopub.status.busy": "2024-02-24T13:31:33.097482Z",
          "iopub.execute_input": "2024-02-24T13:31:33.097936Z",
          "iopub.status.idle": "2024-02-24T13:31:33.112042Z",
          "shell.execute_reply.started": "2024-02-24T13:31:33.097897Z",
          "shell.execute_reply": "2024-02-24T13:31:33.111028Z"
        },
        "trusted": true,
        "id": "6dF-Kx4RXTyA",
        "outputId": "fe108e38-1ca9-4c2b-fe65-6851a1fedfa1"
      },
      "execution_count": null,
      "outputs": [
        {
          "execution_count": 127,
          "output_type": "execute_result",
          "data": {
            "text/plain": "array([[151, 430],\n       [165, 485]])"
          },
          "metadata": {}
        }
      ]
    },
    {
      "cell_type": "code",
      "source": [
        "print(classification_report(y_test, y_pred))"
      ],
      "metadata": {
        "execution": {
          "iopub.status.busy": "2024-02-24T13:31:33.113508Z",
          "iopub.execute_input": "2024-02-24T13:31:33.114499Z",
          "iopub.status.idle": "2024-02-24T13:31:33.137352Z",
          "shell.execute_reply.started": "2024-02-24T13:31:33.114452Z",
          "shell.execute_reply": "2024-02-24T13:31:33.135734Z"
        },
        "trusted": true,
        "id": "xu0k74CgXTyA",
        "outputId": "1279680b-291a-4689-eb8f-5b8b873c8873"
      },
      "execution_count": null,
      "outputs": [
        {
          "name": "stdout",
          "text": "              precision    recall  f1-score   support\n\n           0       0.48      0.26      0.34       581\n           1       0.53      0.75      0.62       650\n\n    accuracy                           0.52      1231\n   macro avg       0.50      0.50      0.48      1231\nweighted avg       0.51      0.52      0.49      1231\n\n",
          "output_type": "stream"
        }
      ]
    },
    {
      "cell_type": "code",
      "source": [
        "print(\"accuracy score = \", accuracy_score(y_test, y_pred))"
      ],
      "metadata": {
        "execution": {
          "iopub.status.busy": "2024-02-24T13:31:33.139392Z",
          "iopub.execute_input": "2024-02-24T13:31:33.140565Z",
          "iopub.status.idle": "2024-02-24T13:31:33.148808Z",
          "shell.execute_reply.started": "2024-02-24T13:31:33.140511Z",
          "shell.execute_reply": "2024-02-24T13:31:33.147476Z"
        },
        "trusted": true,
        "id": "P0CAdP9vXTyA",
        "outputId": "9688fd95-4475-4ef8-9b22-2f5d6e441e0a"
      },
      "execution_count": null,
      "outputs": [
        {
          "name": "stdout",
          "text": "accuracy score =  0.5166531275385865\n",
          "output_type": "stream"
        }
      ]
    },
    {
      "cell_type": "markdown",
      "source": [
        "EXPLAINATION -\n",
        "FIrstly, we import the library needed for data manipulation and analysis then store the dataset thus by importing from the source and assign it to a variable for further use.\n",
        "We access specific rows as per the requirement of the program. and get the index and length of it.\n",
        "we extract information anf store it in another variable.\n",
        "We then define target variable(y) and feature variable(X).\n",
        "Then we split our dataset to train and test. Then we train our model using sklearn's ensemble library and use the model to predict.\n"
      ],
      "metadata": {
        "id": "_OoFGGx9XTyA"
      }
    }
  ]
}